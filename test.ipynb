{
 "cells": [
  {
   "cell_type": "code",
   "execution_count": null,
   "metadata": {
    "scrolled": false
   },
   "outputs": [],
   "source": [
    "%matplotlib inline\n",
    "import re\n",
    "import numpy as np\n",
    "import matplotlib.pyplot as plt\n",
    "\n",
    "step = 0\n",
    "dis_loss = []\n",
    "gen_loss = []\n",
    "\n",
    "regex1 = re.compile(\".* dis_loss (\\S+).* gen_loss (\\S+)\")\n",
    "regex2 = re.compile(\".* training_dis_loss (\\S+).* training_gen_loss (\\S+)\")\n",
    "\n",
    "with open(\"nohup.out\") as f:\n",
    "    lines = f.readlines()\n",
    "\n",
    "    for line in lines:\n",
    "        m1 = regex1.match(line)\n",
    "        if m1:\n",
    "            step += 1\n",
    "            dis_loss.append(float(m1.group(1)))\n",
    "            gen_loss.append(float(m1.group(2)))\n",
    "            if step == 1:\n",
    "                epoch_x = [step]\n",
    "                epoch_dis_loss = [float(m1.group(1))]\n",
    "                epoch_gen_loss = [float(m1.group(2))]\n",
    "\n",
    "        m2 = regex2.match(line)\n",
    "        if m2:\n",
    "            epoch_x.append(step)\n",
    "            epoch_dis_loss.append(float(m2.group(1)))\n",
    "            epoch_gen_loss.append(float(m2.group(2)))\n",
    "\n",
    "plt.plot(np.array(dis_loss), label=\"discriminator loss\")\n",
    "plt.plot(np.array(gen_loss), label=\"generator loss\")\n",
    "plt.plot(np.array(epoch_x), np.array(epoch_dis_loss), label=\"epoch discriminator loss\")\n",
    "plt.plot(np.array(epoch_x), np.array(epoch_gen_loss), label=\"epoch generator loss\")\n",
    "plt.grid(True)\n",
    "plt.legend()\n",
    "plt.show()"
   ]
  },
  {
   "cell_type": "code",
   "execution_count": null,
   "metadata": {
    "scrolled": false
   },
   "outputs": [],
   "source": [
    "%matplotlib inline\n",
    "import os\n",
    "import random\n",
    "import mxnet as mx\n",
    "from test import test\n",
    "\n",
    "random.seed()\n",
    "dataset = \"vangogh2photo\"\n",
    "\n",
    "imgs = [os.path.join(path, f) for path, _, files in os.walk(\"data/{}/testA\".format(dataset)) for f in files]\n",
    "test(\n",
    "    images = random.sample(imgs, 8),\n",
    "    model = dataset,\n",
    "    is_reversed = False,\n",
    "    filters = 64,\n",
    "    context = mx.cpu()\n",
    ")\n",
    "\n",
    "imgs = [os.path.join(path, f) for path, _, files in os.walk(\"data/{}/testB\".format(dataset)) for f in files]\n",
    "test(\n",
    "    images = random.sample(imgs, 8),\n",
    "    model = dataset,\n",
    "    is_reversed = True,\n",
    "    filters = 64,\n",
    "    context = mx.cpu()\n",
    ")"
   ]
  }
 ],
 "metadata": {
  "kernelspec": {
   "display_name": "Python 3",
   "language": "python",
   "name": "python3"
  },
  "language_info": {
   "codemirror_mode": {
    "name": "ipython",
    "version": 3
   },
   "file_extension": ".py",
   "mimetype": "text/x-python",
   "name": "python",
   "nbconvert_exporter": "python",
   "pygments_lexer": "ipython3",
   "version": "3.5.2"
  }
 },
 "nbformat": 4,
 "nbformat_minor": 2
}
